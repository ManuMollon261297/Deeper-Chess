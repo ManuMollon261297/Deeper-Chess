{
 "cells": [
  {
   "cell_type": "code",
   "execution_count": null,
   "metadata": {
    "colab": {},
    "colab_type": "code",
    "id": "6lwcsDU0laQh"
   },
   "outputs": [],
   "source": [
    "#https://software.intel.com/content/www/us/en/develop/articles/keras-implementation-of-siamese-like-networks.html\n",
    "#https://martin-thoma.com/siamese-networks/"
   ]
  },
  {
   "cell_type": "code",
   "execution_count": null,
   "metadata": {
    "colab": {},
    "colab_type": "code",
    "id": "-L0qvdi-rmkH"
   },
   "outputs": [],
   "source": [
    "import keras \n",
    "import sys \n",
    "from keras import backend as K \n",
    "from keras.layers import Conv2D, MaxPooling2D, Dense,Input, Flatten \n",
    "from keras.models import Model, Sequential \n",
    "from keras.engine import InputSpec, Layer \n",
    "from keras import regularizers \n",
    "from keras.optimizers import SGD, Adam \n",
    "from keras.utils.conv_utils import conv_output_length \n",
    "from keras import activations \n",
    "import numpy as np"
   ]
  },
  {
   "cell_type": "code",
   "execution_count": null,
   "metadata": {
    "colab": {},
    "colab_type": "code",
    "id": "Fnczq_a9TYxA"
   },
   "outputs": [],
   "source": [
    "def create_network(n_reference_points, n_dim):\n",
    "    input_ = Input(shape=(n_reference_points,))\n",
    "    x = input_\n",
    "    x = Dense(200, activation=\"relu\")(x)\n",
    "    x = Dense(200, activation=\"relu\")(x)\n",
    "    x = Dense(n_dim, activation=\"sigmoid\")(x)\n",
    "    model = Model(inputs=input_, outputs=x)\n",
    "    return model"
   ]
  },
  {
   "cell_type": "code",
   "execution_count": null,
   "metadata": {
    "colab": {},
    "colab_type": "code",
    "id": "lZYTl4OirlHi"
   },
   "outputs": [],
   "source": [
    "    # Define Network for mapping distances to landmarks to point coordinates\n",
    "    nn = create_network(n_reference_points, n_dim)\n",
    "\n",
    "    # Make the network trainable\n",
    "    dists1_in = Input(shape=(n_reference_points,))\n",
    "    dists2_in = Input(shape=(n_reference_points,))\n",
    "    point1_out = nn(dists1_in)\n",
    "    point2_out = nn(dists2_in)\n",
    "    merged_vector = Concatenate(axis=-1)([point1_out, point2_out])\n",
    "    model = Model(inputs=[dists1_in, dists2_in], outputs=merged_vector)\n",
    "    model.compile(loss=partial(dual_loss, n_dim=n_dim), optimizer=\"adam\")"
   ]
  }
 ],
 "metadata": {
  "colab": {
   "name": "DBNsup.ipynb",
   "provenance": []
  },
  "kernelspec": {
   "display_name": "Python 3",
   "name": "python3"
  }
 },
 "nbformat": 4,
 "nbformat_minor": 0
}
